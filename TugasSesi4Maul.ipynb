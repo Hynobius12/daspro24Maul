{
 "cells": [
  {
   "cell_type": "markdown",
   "id": "14309992-162c-40b7-ad27-320b7377f7ea",
   "metadata": {},
   "source": [
    "<h1>Operator Aritmatika</h1>\n",
    "<ul>\n",
    "    <li>Budi memiliki 12 apel dan ingin membaginya dengan 4 temannya secara merata. Berapa apel yang diterima setiap teman?</li>\n",
    "    <li>Jika Budi mendapatkan tambahan 8 apel, berapa total apel yang dimilikinya sekarang?</li>\n",
    "</ul>"
   ]
  },
  {
   "cell_type": "code",
   "execution_count": 16,
   "id": "5485ddbd-de95-41ef-b24a-8b0f74863ba1",
   "metadata": {},
   "outputs": [
    {
     "name": "stdout",
     "output_type": "stream",
     "text": [
      "teman budi mendapatkan apel berjumlah  3.0 apel\n",
      "apel budi tersisa  0 buah\n",
      "budi mendapat  8 apel tambahan\n",
      "apel budi sekarang berjumlah 8\n"
     ]
    }
   ],
   "source": [
    "apelBudi = 12\n",
    "temanBudi = 4\n",
    "sisaApel = 12%4\n",
    "\n",
    "print(\"teman budi mendapatkan apel berjumlah \", apelBudi/temanBudi, \"apel\")\n",
    "print(\"apel budi tersisa \",sisaApel, \"buah\")\n",
    "print(\"budi mendapat \",apelTambahan, \"apel tambahan\")\n",
    "apelTambahan = 8\n",
    "print(\"apel budi sekarang berjumlah\",sisaApel+apelTambahan)"
   ]
  },
  {
   "cell_type": "markdown",
   "id": "b6ea4ba0-0f10-4f80-ba6c-6e57a384d7d3",
   "metadata": {},
   "source": [
    "<h1>Operator Perbandingan</h1>\n",
    "<ul>\n",
    "    <li>Siti memiliki tinggi 160 cm, sedangkan Andi 165 cm. Gunakan operator perbandingan untuk mengetahui siapa yang lebih tinggi.</li>\n",
    "</ul>"
   ]
  },
  {
   "cell_type": "code",
   "execution_count": 20,
   "id": "1fe23c3c-0890-4d98-a551-954ec2a4ba1a",
   "metadata": {},
   "outputs": [
    {
     "name": "stdout",
     "output_type": "stream",
     "text": [
      "apakah siti lebih tinggi dari andi? False\n",
      "apakah andi lebih tinggi dari siti? True\n"
     ]
    }
   ],
   "source": [
    "siti = 160\n",
    "andi = 165\n",
    "\n",
    "print(\"apakah siti lebih tinggi dari andi?\", siti>=andi)\n",
    "print(\"apakah andi lebih tinggi dari siti?\", andi>=siti)"
   ]
  },
  {
   "cell_type": "markdown",
   "id": "976984ed-994d-4e20-8de2-11f0615a896b",
   "metadata": {},
   "source": [
    "<h1>Operator Logika</h1>\n",
    "<ul>\n",
    "    <li>Budi hanya bisa bermain di luar jika cuaca cerah dan dia sudah menyelesaikan PR-nya. Gunakan operator logika untuk mengevaluasi apakah Budi bisa bermain.</li>\n",
    "</ul>"
   ]
  },
  {
   "cell_type": "code",
   "execution_count": 30,
   "id": "94f11509-96a4-4061-8883-84b69f76c2cd",
   "metadata": {},
   "outputs": [
    {
     "name": "stdin",
     "output_type": "stream",
     "text": [
      "apakah cuaca cerah? y/n n\n",
      "apakah pr sudah dikerjakan? y/n y\n"
     ]
    },
    {
     "name": "stdout",
     "output_type": "stream",
     "text": [
      "apakah budi bisa bermain diluar? False\n"
     ]
    }
   ],
   "source": [
    "a = \"y\"\n",
    "b = \"y\"\n",
    "\n",
    "c = input(\"apakah cuaca cerah? y/n\")\n",
    "d = input(\"apakah pr sudah dikerjakan? y/n\")\n",
    "print(\"apakah budi bisa bermain diluar?\", a==c and b==d)"
   ]
  },
  {
   "cell_type": "markdown",
   "id": "e158e6d7-0cf5-4824-ad73-c23ebaefe936",
   "metadata": {},
   "source": [
    "<h1>Operator Bitwise</h1>\n",
    "<ul>\n",
    "    <li>Jika angka 6 direpresentasikan dalam biner sebagai 0110 dan angka 3 sebagai 0011, hitung hasil operasi AND, OR, dan XOR.</li>\n",
    "</ul>"
   ]
  },
  {
   "cell_type": "code",
   "execution_count": 28,
   "id": "12cff519-950e-41d0-94c7-0ebdbb788f7b",
   "metadata": {},
   "outputs": [
    {
     "name": "stdout",
     "output_type": "stream",
     "text": [
      "6 dalam biner adalah  0b110 dan 3 dalam biner adalah 0b11\n",
      "hasil operasi AND, OR, dan XOR\n",
      "biner dari  6 adalah 0b110\n",
      "biner dari  3 adalah 0b11\n",
      "------------&\n",
      "hasilnya adalah:  0b10\n",
      "Nilai desimalnya adalah 2\n",
      " \n",
      "biner dari  6 adalah 0b110\n",
      "biner dari  3 adalah 0b11\n",
      "------------|\n",
      "hasilnya adalah:  0b111\n",
      "Nilai desimalnya adalah 7\n",
      " \n",
      "biner dari  6 adalah 0b110\n",
      "biner dari  3 adalah 0b11\n",
      "------------^\n",
      "hasilnya adalah:  0b101\n",
      "Nilai desimalnya adalah 5\n"
     ]
    }
   ],
   "source": [
    "a = 6\n",
    "b = 3\n",
    "print(\"6 dalam biner adalah \",bin(a),\"dan 3 dalam biner adalah\",bin(b))\n",
    "print(\"hasil operasi AND, OR, dan XOR\")\n",
    "\n",
    "bitwiseAnd = a & b\n",
    "print(\"biner dari \",a,\"adalah\",bin(a))\n",
    "print(\"biner dari \",b,\"adalah\",bin(b))\n",
    "print(\"------------&\")\n",
    "\n",
    "print(\"hasilnya adalah: \", bin(bitwiseAnd))\n",
    "print(\"Nilai desimalnya adalah\",bitwiseAnd)\n",
    "print(\" \")\n",
    "\n",
    "bitwiseOr = a | b\n",
    "print(\"biner dari \",a,\"adalah\",bin(a))\n",
    "print(\"biner dari \",b,\"adalah\",bin(b))\n",
    "print(\"------------|\")\n",
    "\n",
    "print(\"hasilnya adalah: \", bin(bitwiseOr))\n",
    "print(\"Nilai desimalnya adalah\",bitwiseOr)\n",
    "print(\" \")\n",
    "\n",
    "bitwiseXor = a ^ b\n",
    "print(\"biner dari \",a,\"adalah\",bin(a))\n",
    "print(\"biner dari \",b,\"adalah\",bin(b))\n",
    "print(\"------------^\")\n",
    "\n",
    "print(\"hasilnya adalah: \", bin(bitwiseXor))\n",
    "print(\"Nilai desimalnya adalah\",bitwiseXor)\n"
   ]
  },
  {
   "cell_type": "markdown",
   "id": "a12e090a-ec3e-4095-9427-e421ce2f4bc1",
   "metadata": {},
   "source": [
    "<h1>Operator Penugasan</h1>\n",
    "<ul>\n",
    "    <li>Seorang siswa memiliki saldo pulsa Rp50.000, lalu dia mengisi ulang Rp20.000. Setelah itu, dia membeli paket internet seharga Rp30.000. Gunakan operator penugasan untuk menghitung sisa saldo pulsa.</li>\n",
    "</ul>"
   ]
  },
  {
   "cell_type": "code",
   "execution_count": 30,
   "id": "aa53efa3-1273-4bc7-9232-a560ef23e3bf",
   "metadata": {},
   "outputs": [
    {
     "name": "stdout",
     "output_type": "stream",
     "text": [
      "saldo awal dari siswa adalah : Rp 50000\n",
      "saldo dari siswa setelah isi ulang 20.000 adalah : Rp 70000\n",
      "saldo dari siswa setelah membeli paket internet seharga 30.000 adalah : Rp 40000\n"
     ]
    }
   ],
   "source": [
    "saldoSiswa = 50000\n",
    "print(\"saldo awal dari siswa adalah : Rp\", saldoSiswa)\n",
    "saldoSiswa +=20000\n",
    "print(\"saldo dari siswa setelah isi ulang 20.000 adalah : Rp\", saldoSiswa)\n",
    "saldoSiswa -=30000\n",
    "print(\"saldo dari siswa setelah membeli paket internet seharga 30.000 adalah : Rp\", saldoSiswa)"
   ]
  },
  {
   "cell_type": "markdown",
   "id": "77366c6b-a0ad-45af-b1c2-ec2def07e865",
   "metadata": {},
   "source": [
    "<h1>Operator Keanggotaan</h1>\n",
    "<ul>\n",
    "    <li>Daftar peserta lomba coding adalah [\"Andi\", \"Budi\", \"Citra\", \"Dewi\"]. Gunakan operator keanggotaan untuk mengecek apakah \"Eka\" terdaftar sebagai peserta.</li>\n",
    "    <li>Sebuah kalimat berbunyi \"Saya suka belajar Python\". Gunakan operator keanggotaan untuk mengecek apakah kata \"Python\" ada dalam kalimat tersebut.</li>\n",
    "</ul>"
   ]
  },
  {
   "cell_type": "code",
   "execution_count": 40,
   "id": "d222fcd1-74f4-4a01-8e51-12541f310344",
   "metadata": {},
   "outputs": [
    {
     "name": "stdout",
     "output_type": "stream",
     "text": [
      "daftar peserta lomba\n",
      "['Andi', 'Budi', 'Citra', 'Dewi']\n",
      "apakah Eka termasuk peserta lomba coding? False\n",
      " \n",
      "kalimat : Saya suka belajar Python\n",
      "apakah kata Python ada dalam kalimat tersebut? True\n"
     ]
    }
   ],
   "source": [
    "listNama = [\"Andi\", \"Budi\", \"Citra\", \"Dewi\"]\n",
    "print(\"daftar peserta lomba\")\n",
    "print(listNama)\n",
    "cekNama = \"Eka\"\n",
    "print(\"apakah Eka termasuk peserta lomba coding?\",cekNama in listNama)\n",
    "print(\" \")\n",
    "\n",
    "kalimat = \"Saya suka belajar Python\"\n",
    "print(\"kalimat : Saya suka belajar Python\")\n",
    "print(\"apakah kata Python ada dalam kalimat tersebut?\",\"Python\" in kalimat)"
   ]
  },
  {
   "cell_type": "markdown",
   "id": "42152194-e433-4c8e-855e-c8c8e9b02c39",
   "metadata": {},
   "source": [
    "<h1>Operator Identitas</h1>\n",
    "<ul>\n",
    "    <li>Jika dua variabel x dan y memiliki nilai yang sama, gunakan operator identitas untuk memeriksa apakah mereka merujuk ke objek yang sama dalam memori.</li>\n",
    "    <li>Buat dua list dengan isi yang sama, lalu gunakan operator identitas untuk mengecek apakah kedua list tersebut mengacu ke objek yang sama.</li>\n",
    "</ul>"
   ]
  },
  {
   "cell_type": "code",
   "execution_count": 44,
   "id": "492aeaee-9ca4-41cf-9349-9427b4b50494",
   "metadata": {},
   "outputs": [
    {
     "name": "stdout",
     "output_type": "stream",
     "text": [
      "Memori address dari x = 140715750009560\n",
      "Memori address dari y = 140715750009560\n",
      "Apakah x dan y merujuk ke memori yang sama dalam memori ? True\n",
      "\n",
      "--------------\n",
      "\n",
      "Memori address dari list1 = 1204739886912\n",
      "Memori address dari list2 = 1204739864832\n",
      "Apakah kedua list tersebut mengacu ke objek yang sama ? False\n"
     ]
    }
   ],
   "source": [
    "x = 10\n",
    "y = 10\n",
    "\n",
    "print(\"Memori address dari x =\", id(x))\n",
    "print(\"Memori address dari y =\", id(y))\n",
    "print(\"Apakah x dan y merujuk ke memori yang sama dalam memori ?\",x is y)\n",
    "\n",
    "print(\"\\n--------------\\n\")\n",
    "\n",
    "list1 = [\"Maul\",\"Reza\",\"Ramdan\"]\n",
    "list2 = [\"Maul\",\"Reza\",\"Ramdan\"]\n",
    "\n",
    "print(\"Memori address dari list1 =\", id(list1))\n",
    "print(\"Memori address dari list2 =\", id(list2))\n",
    "print(\"Apakah kedua list tersebut mengacu ke objek yang sama ?\",list1 is list2)\n"
   ]
  },
  {
   "cell_type": "markdown",
   "id": "525a7a66-297f-42ae-9215-39c3eb52095a",
   "metadata": {},
   "source": [
    "<h1>Operator Ternary</h1>\n",
    "<ul>\n",
    "    <li>Gunakan operator ternary untuk menentukan apakah suatu angka lebih besar dari 100.</li>\n",
    "    <li>Gunakan operator ternary untuk mengembalikan \"Lulus\" jika nilai ujian lebih dari 70, atau \"Tidak Lulus\" jika kurang dari 70.</li>\n",
    "</ul>"
   ]
  },
  {
   "cell_type": "code",
   "execution_count": 49,
   "id": "43ea0eae-f4f1-4eef-a31f-87deaae6a14e",
   "metadata": {},
   "outputs": [
    {
     "name": "stdin",
     "output_type": "stream",
     "text": [
      "Masukan angka : 4\n"
     ]
    },
    {
     "name": "stdout",
     "output_type": "stream",
     "text": [
      "Angka lebih kecil dari 100\n"
     ]
    },
    {
     "name": "stdin",
     "output_type": "stream",
     "text": [
      "Masukan nilai : 4\n"
     ]
    },
    {
     "name": "stdout",
     "output_type": "stream",
     "text": [
      "Tidak Lulus\n"
     ]
    }
   ],
   "source": [
    "angka = int(input(\"Masukan angka :\"))\n",
    "cekAngka = \"Angka lebih besar dari 100\" if angka > 100 else \"Angka lebih kecil dari 100\"\n",
    "print(cekAngka)\n",
    "\n",
    "nilai = int(input(\"Masukan nilai :\"))\n",
    "cekNilai = \"Lulus\" if nilai > 70 else \"Tidak Lulus\"\n",
    "print(cekNilai)"
   ]
  }
 ],
 "metadata": {
  "kernelspec": {
   "display_name": "Python [conda env:base] *",
   "language": "python",
   "name": "conda-base-py"
  },
  "language_info": {
   "codemirror_mode": {
    "name": "ipython",
    "version": 3
   },
   "file_extension": ".py",
   "mimetype": "text/x-python",
   "name": "python",
   "nbconvert_exporter": "python",
   "pygments_lexer": "ipython3",
   "version": "3.12.7"
  }
 },
 "nbformat": 4,
 "nbformat_minor": 5
}

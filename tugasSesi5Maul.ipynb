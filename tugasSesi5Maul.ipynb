{
 "cells": [
  {
   "cell_type": "markdown",
   "id": "959512de-5ba0-4bfd-9620-121af984d08e",
   "metadata": {},
   "source": [
    "<h1>Jawaban 1</h1>"
   ]
  },
  {
   "cell_type": "code",
   "execution_count": 3,
   "id": "8a756814-5077-4764-b929-3e87fc569339",
   "metadata": {},
   "outputs": [
    {
     "name": "stdin",
     "output_type": "stream",
     "text": [
      "Masukan nama lengkap: maulana auliya firdaus\n",
      "Masukan tempat lahir sukabumi\n",
      "Masukan tanggal lahir 11 juni 2024\n",
      "Masukan pekerjaan: mahasiswa\n",
      "Masukan alamat: surade tengah\n",
      "Masukan jenis kelamin: laki laki\n",
      "Masukan alamat email: maulanaauliyafirdaus11@gmail.com\n"
     ]
    },
    {
     "name": "stdout",
     "output_type": "stream",
     "text": [
      "\n",
      "========== Biodata Sederhana ==========\n",
      "\n",
      "Nama Lengkap             : maulana auliya firdaus\n",
      "Tempat dan Tanggal Lahir : sukabumi, 11 juni 2024\n",
      "Alamat                   : surade tengah\n",
      "Jenis Kelamin            : laki laki\n",
      "Alamat Email             : maulanaauliyafirdaus11@gmail.com\n"
     ]
    }
   ],
   "source": [
    "# Jawaban Nomor 1\n",
    "\n",
    "nama = input(\"Masukan nama lengkap:\")\n",
    "tempat = input(\"Masukan tempat lahir\")\n",
    "tglLahir = input(\"Masukan tanggal lahir\")\n",
    "pekerjaan = input(\"Masukan pekerjaan:\")\n",
    "alamat = input(\"Masukan alamat:\")\n",
    "jnsKelamin = input(\"Masukan jenis kelamin:\")\n",
    "email = input(\"Masukan alamat email:\")\n",
    "\n",
    "print(\"\\n========== Biodata Sederhana ==========\\n\")\n",
    "print(\"Nama Lengkap             : {}\".format(nama))\n",
    "print(\"Tempat dan Tanggal Lahir : {}, {}\".format(tempat,tglLahir))\n",
    "print(\"Alamat                   : {}\".format(alamat))\n",
    "print(\"Jenis Kelamin            : {}\".format(jnsKelamin))\n",
    "print(\"Alamat Email             : {}\".format(email))"
   ]
  },
  {
   "cell_type": "markdown",
   "id": "4a36e60b-08f2-433a-a450-2a9347be683c",
   "metadata": {},
   "source": [
    "<h1>Jawaban 2</h1>"
   ]
  },
  {
   "cell_type": "code",
   "execution_count": 5,
   "id": "0d582827-7c1e-451b-b66e-9593809e8ecf",
   "metadata": {},
   "outputs": [
    {
     "name": "stdout",
     "output_type": "stream",
     "text": [
      "a. putra nusa\n",
      "b. NIVERSITAS NSA PTRA SKABMI\n",
      "c. SUKABUMI PUTRA NUSA UNIVERSITAS\n",
      "d. UNPS\n",
      "e. TAS SAPU BUMI\n"
     ]
    }
   ],
   "source": [
    "# Jawaban Nomor 2\n",
    "\n",
    "kalimat = \"UNIVERSITAS NUSA PUTRA SUKABUMI\"\n",
    "\n",
    "a = kalimat.split()\n",
    "print(f\"a. {a[2]} {a[1]}\".lower())\n",
    "\n",
    "b = kalimat.replace(\"U\",\"\")\n",
    "print(f\"b. {b}\")\n",
    "\n",
    "dibalik = a[::-1]\n",
    "c = \" \".join(dibalik)\n",
    "print(f\"c. {c}\")\n",
    "\n",
    "d = \"\"\n",
    "for kata in a:\n",
    "    d += kata[0]\n",
    "print(f\"d. {d}\")\n",
    "\n",
    "print(f\"e. {a[0][-3:]} {a[1][-2:]}{a[2][0:2]} {a[3][-4:]}\")"
   ]
  }
 ],
 "metadata": {
  "kernelspec": {
   "display_name": "Python [conda env:base] *",
   "language": "python",
   "name": "conda-base-py"
  },
  "language_info": {
   "codemirror_mode": {
    "name": "ipython",
    "version": 3
   },
   "file_extension": ".py",
   "mimetype": "text/x-python",
   "name": "python",
   "nbconvert_exporter": "python",
   "pygments_lexer": "ipython3",
   "version": "3.12.7"
  }
 },
 "nbformat": 4,
 "nbformat_minor": 5
}

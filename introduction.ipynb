{
 "cells": [
  {
   "cell_type": "markdown",
   "id": "fe57067a-a692-4595-be85-59c9ece60e30",
   "metadata": {},
   "source": [
    "<center><img src=\"https://asset-2.tstatic.net/tribunnews/foto/bank/images/ular-piton-burma-phyton-molurus-atau-lebih-dikenal-dengan-ular-sanca-bodo_20180617_154730.jpg\" width=\"300\" height=\"\"></center><br>\n",
    "<center><b><h1>Tutorial Jupiter Notebook</h1></b></center><br>\n",
    "Tempat menuliskan code disebut sebagai <b>cell</b><br>\n",
    "<ol>\n",
    "    <li>Code - Y</li>\n",
    "    <li>Markdown - M</li>\n",
    "</ol>\n",
    "<hr>\n",
    "Cara menjalankan cell<br>\n",
    "<table>\n",
    "    <tr>\n",
    "        <td>Command</td>\n",
    "        <td>Keterangan</td>\n",
    "    </tr>\n",
    "    <tr>\n",
    "        <td>ctrl + enter</td>\n",
    "        <td>Running dan focus di cell aktif</td>\n",
    "    </tr>\n",
    "    <tr>\n",
    "        <td>Shift + enter</td>\n",
    "        <td>Running dan focus di cell berikutnya</td>\n",
    "    </tr>\n",
    "\n",
    "</table>"
   ]
  },
  {
   "cell_type": "markdown",
   "id": "164fd391-5be6-490d-b378-ec2d3a5085b6",
   "metadata": {},
   "source": [
    "menambahkan cell ada 2 cara\n",
    "<ul>\n",
    "    <li>Tekan A -> Abive</li\n",
    "    <li>Tekan B -> Below</li>\n",
    "</ul>\n",
    "cara membuat output di python adalah <br>\n",
    "```\n",
    "print(teks yang akan di print)\n",
    "```"
   ]
  },
  {
   "cell_type": "code",
   "execution_count": 60,
   "id": "87efb189-8687-4f2b-8846-45e987d26a3c",
   "metadata": {},
   "outputs": [
    {
     "name": "stdout",
     "output_type": "stream",
     "text": [
      "selamat belajar python\n",
      "selamat belajar variable cihuyy\n"
     ]
    }
   ],
   "source": [
    "#Cetak tulisan selamat belajar python\n",
    "\n",
    "print (\"selamat belajar python\")\n",
    "data = \"selamat belajar variable\"\n",
    "data2 = \" cihuyy\"\n",
    "\n",
    "print (data + data2)"
   ]
  },
  {
   "cell_type": "code",
   "execution_count": 64,
   "id": "152dfdc1-3b98-4cb5-a446-e131fdd878bf",
   "metadata": {},
   "outputs": [
    {
     "name": "stdout",
     "output_type": "stream",
     "text": [
      "cekk\n"
     ]
    },
    {
     "data": {
      "text/plain": [
       "'cekk'"
      ]
     },
     "execution_count": 64,
     "metadata": {},
     "output_type": "execute_result"
    }
   ],
   "source": [
    "data = \"cekk\"\n",
    "print(data)\n"
   ]
  }
 ],
 "metadata": {
  "kernelspec": {
   "display_name": "Python [conda env:base] *",
   "language": "python",
   "name": "conda-base-py"
  },
  "language_info": {
   "codemirror_mode": {
    "name": "ipython",
    "version": 3
   },
   "file_extension": ".py",
   "mimetype": "text/x-python",
   "name": "python",
   "nbconvert_exporter": "python",
   "pygments_lexer": "ipython3",
   "version": "3.12.7"
  }
 },
 "nbformat": 4,
 "nbformat_minor": 5
}

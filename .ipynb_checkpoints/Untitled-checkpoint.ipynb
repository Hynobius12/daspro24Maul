{
 "cells": [
  {
   "cell_type": "markdown",
   "id": "290f7930-3022-4ea3-9f4b-5d823623dffe",
   "metadata": {},
   "source": [
    "<h1>OPERATOR ARITMATIKA</h1>"
   ]
  },
  {
   "cell_type": "code",
   "execution_count": 9,
   "id": "92874127-9a01-4d56-ab2d-c70ea14bff65",
   "metadata": {},
   "outputs": [
    {
     "name": "stdin",
     "output_type": "stream",
     "text": [
      "isikan nilai x : 5\n",
      "isikan nilai y : 6\n"
     ]
    },
    {
     "name": "stdout",
     "output_type": "stream",
     "text": [
      "penjumlahan  5 + 6 = 11\n",
      "pengurangan  5 - 6 = -1\n",
      "perkalian  5 * 6 = 30\n",
      "pembagian  5 / 6 = 0.8333333333333334\n",
      "modulus  5 % 6 = 5\n",
      "pangkat  5 ^ 6 = 15625\n",
      "bagi bulat  5 // 6 = 1\n"
     ]
    }
   ],
   "source": [
    "x = int(input(\"isikan nilai x :\"))\n",
    "y = int(input(\"isikan nilai y :\"))\n",
    "\n",
    "hasilTambah = x + y\n",
    "hasilKurang = x - y\n",
    "hasilKali = x * y\n",
    "hasilBagi = x / y\n",
    "hasilModulus = x % y\n",
    "hasilPangkat = x ** y\n",
    "hasilBagiBulat = y // y\n",
    "\n",
    "print(\"penjumlahan \", x, \"+\", y, \"=\", hasilTambah)\n",
    "print(\"pengurangan \", x, \"-\", y, \"=\", hasilKurang)\n",
    "print(\"perkalian \", x, \"*\", y, \"=\", hasilKali)\n",
    "print(\"pembagian \", x, \"/\", y, \"=\", hasilBagi)\n",
    "print(\"modulus \", x, \"%\", y, \"=\", hasilModulus)\n",
    "print(\"pangkat \", x, \"^\", y, \"=\", hasilPangkat)\n",
    "print(\"bagi bulat \", x, \"//\", y, \"=\", hasilBagiBulat)"
   ]
  },
  {
   "cell_type": "markdown",
   "id": "91687284-0fe0-4083-8c17-b3f954b18d75",
   "metadata": {},
   "source": [
    "<h1>OPERATOR PENUGASAN(ASSIGNMENT)</h1>"
   ]
  },
  {
   "cell_type": "code",
   "execution_count": 14,
   "id": "81e6e7ef-37d6-4960-ae22-9cd1496eb7c4",
   "metadata": {},
   "outputs": [
    {
     "name": "stdin",
     "output_type": "stream",
     "text": [
      "isikan nilai : 10\n"
     ]
    },
    {
     "name": "stdout",
     "output_type": "stream",
     "text": [
      "nilai awal dari<nilai> : 10\n",
      "setelah ditambah 3: 13\n",
      "setelah dikurangi 5: 8\n",
      "setelah dikali 10: 80\n",
      "setelah dibagi 2: 40.0\n"
     ]
    }
   ],
   "source": [
    "nilai = int(input(\"isikan nilai :\"))\n",
    "print(\"nilai awal dari<nilai> :\", nilai)\n",
    "nilai +=3\n",
    "print(\"setelah ditambah 3:\",nilai)\n",
    "nilai-=5\n",
    "print(\"setelah dikurangi 5:\",nilai)\n",
    "nilai*=10\n",
    "print(\"setelah dikali 10:\",nilai)\n",
    "nilai/=2\n",
    "print(\"setelah dibagi 2:\",nilai)"
   ]
  },
  {
   "cell_type": "markdown",
   "id": "67986acd-b0ad-4139-8e7b-e8588a6751da",
   "metadata": {},
   "source": [
    "<h1>OPERATOR PERBANDINGAN</h1>"
   ]
  },
  {
   "cell_type": "code",
   "execution_count": 22,
   "id": "8b40ec6d-9eaf-4b06-ad73-799a4dd6f269",
   "metadata": {},
   "outputs": [
    {
     "name": "stdin",
     "output_type": "stream",
     "text": [
      "isikan nilai 1: 5\n",
      "isikan nilai 2: 6\n"
     ]
    },
    {
     "name": "stdout",
     "output_type": "stream",
     "text": [
      "Apakah  5 = 6 ?: False\n",
      "Apakah  5 != 6 ?: True\n",
      "Apakah  5 > 6 ?: False\n",
      "Apakah  5 >= 6 ?: False\n",
      "Apakah  5 < 6 ?: True\n",
      "Apakah  5 <= 6 ?: True\n"
     ]
    }
   ],
   "source": [
    "val1 = int(input(\"isikan nilai 1:\"))\n",
    "val2 = int(input(\"isikan nilai 2:\"))\n",
    "\n",
    "print(\"Apakah \",val1,\"=\",val2,\"?:\",val1==val2)\n",
    "print(\"Apakah \",val1,\"!=\",val2,\"?:\",val1!=val2)\n",
    "print(\"Apakah \",val1,\">\",val2,\"?:\",val1>val2)\n",
    "print(\"Apakah \",val1,\">=\",val2,\"?:\",val1>=val2)\n",
    "print(\"Apakah \",val1,\"<\",val2,\"?:\",val1<val2)\n",
    "print(\"Apakah \",val1,\"<=\",val2,\"?:\",val1<=val2)"
   ]
  },
  {
   "cell_type": "markdown",
   "id": "a871752c-2d8c-49b0-984a-7d22ac14e7d9",
   "metadata": {},
   "source": [
    "<h1>OPERATOR LOGIKA</h1>"
   ]
  },
  {
   "cell_type": "code",
   "execution_count": 28,
   "id": "257e768c-a506-4d28-8266-f7aed8961a51",
   "metadata": {},
   "outputs": [
    {
     "name": "stdin",
     "output_type": "stream",
     "text": [
      "isikan nilai a: 2\n",
      "isikan nilai b: 3\n",
      "isikan nilai c: 4\n",
      "isikan nilai d: 5\n"
     ]
    },
    {
     "name": "stdout",
     "output_type": "stream",
     "text": [
      "nilai a: 2\n",
      "nilai b: 3\n",
      "nilai c: 4\n",
      "nilai d: 5\n",
      "apakah a > b dan c < d False\n"
     ]
    }
   ],
   "source": [
    "a = int(input(\"isikan nilai a:\"))\n",
    "b = int(input(\"isikan nilai b:\"))\n",
    "c = int(input(\"isikan nilai c:\"))\n",
    "d = int(input(\"isikan nilai d:\"))\n",
    "print(\"nilai a:\", a)\n",
    "print(\"nilai b:\", b)\n",
    "print(\"nilai c:\", c)\n",
    "print(\"nilai d:\", d)\n",
    "\n",
    "print(\"apakah a > b dan c < d\", a>b and c<d) #logika and\n",
    "print(\"apakah a > b atau c < d\", a>b or c<d) #logika or\n",
    "print(\"apakah !a > b dan c < d\", not(a>b and c<d)) #logika not and\n",
    "\n",
    "        "
   ]
  },
  {
   "cell_type": "markdown",
   "id": "8300fc6d-5c32-488c-bbc5-c79531a62c29",
   "metadata": {},
   "source": [
    "<h1>OPERATOR IDENTITAS</h1>"
   ]
  },
  {
   "cell_type": "code",
   "execution_count": 38,
   "id": "ef5d030d-25e8-4c0c-9be0-253066c7cd00",
   "metadata": {},
   "outputs": [
    {
     "name": "stdout",
     "output_type": "stream",
     "text": [
      "Memori address dari num 1 2456521255664\n",
      "Memori address dari num 2 140716555447000\n",
      "Memori address dari num 3 140716555447000\n",
      "apakah num1 adalah num2 False\n",
      "apakah num2 adalah num3 True\n",
      "apakah num2 bukan num3 False\n"
     ]
    }
   ],
   "source": [
    "num1 = \"10\"\n",
    "num2 = 10\n",
    "num3 = num2\n",
    "\n",
    "print(\"Memori address dari num 1\", id(num1))\n",
    "print(\"Memori address dari num 2\", id(num2))\n",
    "print(\"Memori address dari num 3\", id(num3))\n",
    "\n",
    "print(\"apakah num1 adalah num2\", num1 is num2)\n",
    "print(\"apakah num2 adalah num3\", num2 is num3)\n",
    "print(\"apakah num2 bukan num3\", num2 is not num3)"
   ]
  },
  {
   "cell_type": "markdown",
   "id": "df383870-dae1-47cf-a8e8-0345d3e051f6",
   "metadata": {},
   "source": [
    "<h1>OPERATOR KEANGGOTAAN</h1>"
   ]
  },
  {
   "cell_type": "code",
   "execution_count": 42,
   "id": "ba5e5e27-9cc0-40bf-b842-4533ce1aabac",
   "metadata": {},
   "outputs": [
    {
     "name": "stdin",
     "output_type": "stream",
     "text": [
      "isikan nama yang dicari: caca\n"
     ]
    },
    {
     "name": "stdout",
     "output_type": "stream",
     "text": [
      "False\n",
      "False\n",
      "True\n",
      "True\n"
     ]
    }
   ],
   "source": [
    "nama = input(\"isikan nama yang dicari:\")\n",
    "listNama = [\"andi\",\"budi\",\"Caca\",\"budi\",\"erfan\"]\n",
    "print(nama in listNama)\n",
    "print(nama in listNama[0])\n",
    "print(nama not in listNama)\n",
    "print(nama not in listNama[0])"
   ]
  },
  {
   "cell_type": "markdown",
   "id": "52947aea-b2c1-4a26-81e4-4da40a0ca168",
   "metadata": {},
   "source": [
    "<h1>OPERATOR BITWISE</h1>"
   ]
  },
  {
   "cell_type": "code",
   "execution_count": 55,
   "id": "c8426771-3056-4aa5-9837-7002f011e416",
   "metadata": {},
   "outputs": [
    {
     "name": "stdin",
     "output_type": "stream",
     "text": [
      "isikan bilangan 1: 10\n",
      "isikan bilangan 2: 12\n"
     ]
    },
    {
     "name": "stdout",
     "output_type": "stream",
     "text": [
      "Biner dari 10 : 0b1010\n",
      "Biner dari 12 : 0b1100\n",
      "0b1010\n",
      "0b1100\n",
      "------------&\n",
      "0b1000\n",
      "hasil desimalnya adalah:  8\n",
      "0b1010\n",
      "0b1100\n",
      "-----------/\n",
      "0b1110\n",
      "hasil desimalnya adalah:  14\n",
      "0b1010\n",
      "0b1100\n",
      "------------^\n",
      "0b110\n",
      "hasil desimalnya adalah:  6\n",
      "0b1010\n",
      "0b1100\n",
      "------------<<\n",
      "0b1010000000000000\n",
      "hasil desimalnya adalah:  40960\n",
      "0b1010\n",
      "0b1100\n",
      "----------->>\n",
      "0b0\n",
      "hasil desimalnya adalah:  0\n"
     ]
    }
   ],
   "source": [
    "bil1 = int(input(\"isikan bilangan 1:\"))\n",
    "bil2 = int(input(\"isikan bilangan 2:\"))\n",
    "\n",
    "print(\"Biner dari\", bil1,\":\",bin(bil1))\n",
    "print(\"Biner dari\", bil2,\":\",bin(bil2))\n",
    "\n",
    "#bitwise &\n",
    "bitwiseAnd = bil1 & bil2\n",
    "print(bin(bil1))\n",
    "print(bin(bil2))\n",
    "print(\"------------&\")\n",
    "print(bin(bitwiseAnd))\n",
    "print(\"hasil desimalnya adalah: \", bitwiseAnd)\n",
    "\n",
    "#bitwise |\n",
    "bitwiseOr = bil1 | bil2\n",
    "print(bin(bil1))\n",
    "print(bin(bil2))\n",
    "print(\"-----------/\")\n",
    "print(bin(bitwiseOr))\n",
    "print(\"hasil desimalnya adalah: \", bitwiseOr) \n",
    "\n",
    "#bitwise ^\n",
    "bitwiseXor = bil1 ^ bil2\n",
    "print(bin(bil1))\n",
    "print(bin(bil2))\n",
    "print(\"------------^\")\n",
    "print(bin(bitwiseXor))\n",
    "print(\"hasil desimalnya adalah: \", bitwiseXor)\n",
    "\n",
    "#bitwise <<\n",
    "bitwiseLeft = bil1 << bil2\n",
    "print(bin(bil1))\n",
    "print(bin(bil2))\n",
    "print(\"------------<<\")\n",
    "print(bin(bil1),\"digeser ke kiri sebanyak \",bil2,\"bit\")\n",
    "print(\"hasilnya adalah\",bin(bitwiseLeft))\n",
    "print(\"hasil desimalnya adalah: \", bitwiseLeft)\n",
    "\n",
    "#bitwise >>\n",
    "bitwiseRight = bil1 >> bil2\n",
    "print(bin(bil1))\n",
    "print(bin(bil2))\n",
    "print(\"----------->>\")\n",
    "print(bin(bil1),\"digeser ke kanan sebanyak \",bil2,\"bit\")\n",
    "print(\"hasilnhya adalah\",bin(bitwiseRight))\n",
    "print(\"hasil desimalnya adalah: \", bitwiseRight)"
   ]
  },
  {
   "cell_type": "markdown",
   "id": "d0574e32-e2af-41b6-97bc-62ae45d96b88",
   "metadata": {},
   "source": [
    "<h1>OPERATOR TERNARY</h1>"
   ]
  },
  {
   "cell_type": "code",
   "execution_count": 62,
   "id": "c8038271-79be-4431-bfc8-cf2584b64dbd",
   "metadata": {},
   "outputs": [
    {
     "name": "stdin",
     "output_type": "stream",
     "text": [
      "Insert your number: 4\n"
     ]
    },
    {
     "name": "stdout",
     "output_type": "stream",
     "text": [
      "Bilangan genap\n"
     ]
    }
   ],
   "source": [
    "number = int(input(\"Insert your number:\"))\n",
    "oddEven = \"Bilangan genap\" if number % 2==0 else \"Bilangan ganjil\"\n",
    "print(oddEven)"
   ]
  },
  {
   "cell_type": "markdown",
   "id": "95a75575-926a-4a51-ae3b-76a91db1d4ed",
   "metadata": {},
   "source": [
    "Seorang ibu berbelanja untuk berbuka puasa, yaitu :\n",
    "1. pisang goreng - 13.000\n",
    "2. kolak - 5.000\n",
    "3. nasi padang - 20.000\n",
    "4. es buah - 10.000\n",
    "\n",
    "hitung ibu berbelanja lebih dari 25.000 maka akan mendapatkan discount 5% hitunglah total belanja ibu"
   ]
  },
  {
   "cell_type": "code",
   "execution_count": 110,
   "id": "768c4ef0-1750-40f2-9ecc-afc1967f00fa",
   "metadata": {},
   "outputs": [
    {
     "name": "stdin",
     "output_type": "stream",
     "text": [
      "jumlah pisang : 1\n",
      "jumlah kolak : 0\n",
      "jumlah naspad : 0\n",
      "jumlah esBuah : 0\n"
     ]
    },
    {
     "name": "stdout",
     "output_type": "stream",
     "text": [
      "total belanja Rp 13000\n",
      "tidak dapat diskon\n",
      "total belanja ibu adalah Rp 13000.0\n"
     ]
    }
   ],
   "source": [
    "pisang = int(input(\"jumlah pisang :\"))\n",
    "kolak = int(input(\"jumlah kolak :\"))\n",
    "naspad = int(input(\"jumlah naspad :\"))\n",
    "esBuah = int(input(\"jumlah esBuah :\"))\n",
    "\n",
    "pisang *= 13000\n",
    "kolak *= 5000\n",
    "naspad *= 20000\n",
    "esBuah *=10000\n",
    "\n",
    "total = pisang + kolak + naspad + esBuah\n",
    "Hdiskon = 5 if total>=25000 else 0\n",
    "\n",
    "print(\"total belanja Rp\",total)\n",
    "\n",
    "totalBayar = total - (total *(Hdiskon/100))\n",
    "\n",
    "diskon = \"dapat diskon 5% \" if total >=25000 else \"tidak dapat diskon\"\n",
    "\n",
    "print(diskon)\n",
    "\n",
    "\n",
    "\n",
    "print(\"total belanja ibu adalah Rp\",totalBayar)\n",
    "\n"
   ]
  }
 ],
 "metadata": {
  "kernelspec": {
   "display_name": "Python [conda env:base] *",
   "language": "python",
   "name": "conda-base-py"
  },
  "language_info": {
   "codemirror_mode": {
    "name": "ipython",
    "version": 3
   },
   "file_extension": ".py",
   "mimetype": "text/x-python",
   "name": "python",
   "nbconvert_exporter": "python",
   "pygments_lexer": "ipython3",
   "version": "3.12.7"
  }
 },
 "nbformat": 4,
 "nbformat_minor": 5
}

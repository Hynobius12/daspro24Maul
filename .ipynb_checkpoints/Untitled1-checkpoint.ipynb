{
 "cells": [
  {
   "cell_type": "code",
   "execution_count": 13,
   "id": "489d2ede-4d4a-4e68-94c8-80400cc22e2b",
   "metadata": {},
   "outputs": [
    {
     "name": "stdin",
     "output_type": "stream",
     "text": [
      "isikan nama anda a\n"
     ]
    },
    {
     "name": "stdout",
     "output_type": "stream",
     "text": [
      "selamat datang a\n",
      "123\n",
      "andri-asep-ujang\n"
     ]
    }
   ],
   "source": [
    "nama = input(\"isikan nama anda\")\n",
    "print(\"selamat datang\",nama) #menggabungkan variabel dengan string\n",
    "\n",
    "print(\"1\",end='') #mencetak disamping karakter\n",
    "print(\"2\",end='')\n",
    "print(\"3\")\n",
    "\n",
    "#separator\n",
    "print(\"andri\",\"asep\",\"ujang\",sep=\"-\")"
   ]
  },
  {
   "cell_type": "markdown",
   "id": "6e73e38b-3521-4beb-99e9-6e8b5f089832",
   "metadata": {},
   "source": [
    "<h3>Cara Menggunakan String Format</h3>"
   ]
  },
  {
   "cell_type": "code",
   "execution_count": 18,
   "id": "cbd99c25-01cf-4fa8-9d83-cf6c7a366dc7",
   "metadata": {},
   "outputs": [
    {
     "name": "stdin",
     "output_type": "stream",
     "text": [
      "isikan bilangan 1: 3\n",
      "isikan bilangan 2: 4\n"
     ]
    },
    {
     "name": "stdout",
     "output_type": "stream",
     "text": [
      "hasil penjumlahan 3 + 4 = 7\n",
      "hasil penjumlahan 3 + 4 = 7\n"
     ]
    }
   ],
   "source": [
    "val1 = int(input(\"isikan bilangan 1:\"))\n",
    "val2 = int(input(\"isikan bilangan 2:\"))\n",
    "\n",
    "#hasil penjumlahan 3+4 =7\n",
    "print(\"hasil penjumlahan\",val1,\"+\",val2,\"=\",val1+val2)\n",
    "\n",
    "#string format menggunakan tanda{}\n",
    "print(\"hasil penjumlahan {} + {} = {}\".format(val1,val2,val1+val2))"
   ]
  },
  {
   "cell_type": "markdown",
   "id": "f847e8ad-551a-4d45-862e-88aaca61c500",
   "metadata": {},
   "source": [
    "<h3>string format index</h3>"
   ]
  },
  {
   "cell_type": "code",
   "execution_count": 30,
   "id": "716f8f38-6867-41db-8305-38a6e43ce299",
   "metadata": {},
   "outputs": [
    {
     "name": "stdin",
     "output_type": "stream",
     "text": [
      "isikan nama depan: a\n",
      "isikan nama tengah: b\n",
      "isikan nama belakang: c\n"
     ]
    },
    {
     "name": "stdout",
     "output_type": "stream",
     "text": [
      "nama anda :a b c\n",
      "nama anda :a b c\n",
      "nama anda :a b c\n"
     ]
    }
   ],
   "source": [
    "fname = input(\"isikan nama depan:\")\n",
    "mname = input(\"isikan nama tengah:\")\n",
    "lname = input(\"isikan nama belakang:\")\n",
    "\n",
    "print(\"nama anda :{} {} {}\".format(fname,mname,lname))\n",
    "#menggunakan index\n",
    "print(\"nama anda :{1} {0} {2}\".format(mname,fname,lname))\n",
    "#menggunakan key\n",
    "print(\"nama anda :{a} {b} {c}\".format(a=fname, c=lname, b=mname))"
   ]
  },
  {
   "cell_type": "markdown",
   "id": "6efc77c4-37e0-4120-8242-2f0ba1d9fb8f",
   "metadata": {},
   "source": [
    "<h3>slicing</h3><br>\n",
    "mengambil string/karakter dari string berdasarkan index"
   ]
  },
  {
   "cell_type": "code",
   "execution_count": 44,
   "id": "3f21f9a2-7c92-48b1-827f-e41b1fe23127",
   "metadata": {},
   "outputs": [
    {
     "name": "stdin",
     "output_type": "stream",
     "text": [
      "isikan nama kampus anda: nusa putra\n"
     ]
    },
    {
     "name": "stdout",
     "output_type": "stream",
     "text": [
      "n\n",
      "nusa \n",
      "a\n",
      "usa putra\n",
      "a\n"
     ]
    }
   ],
   "source": [
    "university = input(\"isikan nama kampus anda:\")\n",
    "#mencetak karakter pertama\n",
    "print(university[0])\n",
    "#mencetak karakter pertama sampai 5\n",
    "print(university[0:5])\n",
    "#mencetak karakter paling akhir\n",
    "print(university[-1])\n",
    "#mencetak karakter kedua sampai selesai\n",
    "print(university[1:])"
   ]
  },
  {
   "cell_type": "markdown",
   "id": "28540f14-6ebc-48c2-b564-cd0c61de65e2",
   "metadata": {},
   "source": [
    "<h3>fungsi string</h3>"
   ]
  },
  {
   "cell_type": "code",
   "execution_count": 55,
   "id": "f1f8d437-2c02-4e53-83b0-56b227723c5b",
   "metadata": {},
   "outputs": [
    {
     "name": "stdin",
     "output_type": "stream",
     "text": [
      "berikan nama lengkap : a\n"
     ]
    },
    {
     "name": "stdout",
     "output_type": "stream",
     "text": [
      "nama anda adalah a\n",
      "0\n"
     ]
    }
   ],
   "source": [
    "fullname = input(\"berikan nama lengkap :\")\n",
    "#split - untuk memisahkan string berdasarkan karakter tertentu\n",
    "# name = fullname.split(' ')\n",
    "# print(\"nama depan\",name[0])\n",
    "# print(\"nama tengah\",name[1])\n",
    "# print(\"nama belakang\",name[2])\n",
    "\n",
    "#print fstring\n",
    "print(f\"nama anda adalah {fullname}\")\n",
    "\n",
    "#find untuk mencari karakter dalam string\n",
    "#jika ditemukan akan mengembalikan posisi indeks\n",
    "#jika tidak ditemukan mengembalikan nilai -1\n",
    "platMobil = \"N7865BB\"\n",
    "print(platMobil.find(\"N\"))"
   ]
  },
  {
   "cell_type": "code",
   "execution_count": 105,
   "id": "d76c90f0-c987-4b1a-8aca-3be4fcbe9b40",
   "metadata": {},
   "outputs": [
    {
     "name": "stdin",
     "output_type": "stream",
     "text": [
      "isikan email anda : maul@gmail.com\n"
     ]
    },
    {
     "name": "stdout",
     "output_type": "stream",
     "text": [
      "posisi '@': 4\n",
      "posisi '.': 10\n",
      "valid\n"
     ]
    }
   ],
   "source": [
    "#buatkan program untuk mengecek email valid atau tidak (operator ternary)\n",
    "#email harus mempunyai \"@\" dan \".\"\n",
    "#posisi \"@\" selalu didepan \".\"\n",
    "#alun@gmail.com\n",
    "#alun.me@gmail.com\n",
    "\n",
    "email = input(\"isikan email anda :\")\n",
    "# kondisi = \"valid\" if (email.find('@')) else \"tidak valid\"\n",
    "cek1 = email.find(\"@\")\n",
    "cek2 = email.find(\".\")\n",
    "find = \"valid\" if cek1 > -1 and cek2 > -1 and cek1 < cek2 else \"tdak valid\"\n",
    "print(\"posisi '@':\" ,cek1)\n",
    "print(\"posisi '.':\" ,cek2)\n",
    "print(find)"
   ]
  },
  {
   "cell_type": "markdown",
   "id": "d4d7fba0-34a2-4c5e-8b09-efe913739207",
   "metadata": {},
   "source": [
    "<h2>random</h2>"
   ]
  },
  {
   "cell_type": "code",
   "execution_count": 198,
   "id": "4b2d64c6-1566-4055-94c5-06742f05e2f3",
   "metadata": {},
   "outputs": [
    {
     "name": "stdout",
     "output_type": "stream",
     "text": [
      "Hasil dari nilai acak adalah 0.7701409992786715\n",
      "78\n",
      "hasil dari acak bulan adalah Jul\n",
      "hasil dari acak hari adalah ['sat', 6]\n",
      "berapakah 21 + 58:\n"
     ]
    },
    {
     "name": "stdin",
     "output_type": "stream",
     "text": [
      "isikan hasilnya 1\n"
     ]
    },
    {
     "name": "stdout",
     "output_type": "stream",
     "text": [
      "anda salah\n"
     ]
    }
   ],
   "source": [
    "from random import random #mengacak nilai float\n",
    "nilai = random()\n",
    "print(f\"Hasil dari nilai acak adalah {nilai}\")\n",
    "\n",
    "from random import randint\n",
    "nilaiInt = randint(0,100)\n",
    "print(nilaiInt)\n",
    "\n",
    "from random import choice\n",
    "month = [\"Jan\",\"Feb\",\"Mar\",\"Apr\",\"May\",\"Jun\",\"Jul\",\"Aug\",\"Sep\",\"Oct\",\"Des\"]\n",
    "day = [[\"mon\",1],[\"tue\",2],[\"wed\",3],[\"thu\",4],[\"fri\",5],[\"sat\",6],[\"sun\",7]]\n",
    "\n",
    "\n",
    "select = choice(month)\n",
    "sday = choice(day)\n",
    "print(f\"hasil dari acak bulan adalah {select}\")\n",
    "print(f\"hasil dari acak hari adalah {sday}\")\n",
    "\n",
    "nilai1 = randint(0,100)\n",
    "nilai2 = randint(0,100)\n",
    "operator = [\"+\",\"-\",\"*\",\"/\"]\n",
    "sOperator = choice(operator)\n",
    "\n",
    "print(f\"berapakah {nilai1} {sOperator} {nilai2}:\")\n",
    "\n",
    "jawab1 = int(input(\"isikan hasilnya\"))\n",
    "\n",
    "if sOperator ==\"+\" :\n",
    "    cekJawab1 = \"anda benar\" if jawab1 == nilai1 + nilai2 else \"anda salah\"\n",
    "elif sOperator ==\"-\" :\n",
    "    cekJawab1 = \"anda benar\" if jawab1 == nilai1 - nilai2 else \"anda salah\"\n",
    "elif sOperator ==\"*\" :\n",
    "    cekJawab1 = \"anda benar\" if jawab1 == nilai1 * nilai2 else \"anda salah\"\n",
    "elif sOperator ==\"/\" :\n",
    "    cekJawab1 = \"anda benar\" if jawab1 == nilai1 // nilai2 else \"anda salah\"\n",
    "\n",
    "\n",
    "print(cekJawab1)\n",
    "\n",
    "\n"
   ]
  },
  {
   "cell_type": "code",
   "execution_count": 220,
   "id": "25fa5b7b-366d-4eae-8f7e-fddde2602867",
   "metadata": {},
   "outputs": [
    {
     "name": "stdin",
     "output_type": "stream",
     "text": [
      "ENG->IND (1) IND->ENG (2) 1\n"
     ]
    },
    {
     "name": "stdout",
     "output_type": "stream",
     "text": [
      "apa arti dari sleep ?\n"
     ]
    },
    {
     "name": "stdin",
     "output_type": "stream",
     "text": [
      "isikan jawaban: tidur\n"
     ]
    },
    {
     "name": "stdout",
     "output_type": "stream",
     "text": [
      "anda benar\n"
     ]
    }
   ],
   "source": [
    "from random import randint,choice\n",
    "\n",
    "kamus = [[\"makan\",\"eat\"],[\"minum\",\"drink\"],[\"tidur\",\"sleep\"],[\"lari\",\"run\"],[\"renang\",\"swim\"]]\n",
    "skamus = choice(kamus)\n",
    "\n",
    "pilih = int(input(\"ENG->IND (1) IND->ENG (2)\"))\n",
    "if pilih ==1:\n",
    "    print(f\"apa arti dari {skamus[1]} ?\")\n",
    "    jawab = input(\"isikan jawaban:\")\n",
    "    cek = \"anda benar\" if jawab.lower() == skamus[0] else \"anda salah\"\n",
    "    print(cek)\n",
    "elif pilih ==2:\n",
    "    print(f\"apa arti dari {skamus[0]} ?\")\n",
    "    jawab = input(\"isikan jawaban:\")\n",
    "    cek = \"anda benar\" if jawab.lower() == skamus[1] else \"anda salah\"\n",
    "    print(cek)\n",
    "\n"
   ]
  }
 ],
 "metadata": {
  "kernelspec": {
   "display_name": "Python [conda env:base] *",
   "language": "python",
   "name": "conda-base-py"
  },
  "language_info": {
   "codemirror_mode": {
    "name": "ipython",
    "version": 3
   },
   "file_extension": ".py",
   "mimetype": "text/x-python",
   "name": "python",
   "nbconvert_exporter": "python",
   "pygments_lexer": "ipython3",
   "version": "3.12.7"
  }
 },
 "nbformat": 4,
 "nbformat_minor": 5
}
